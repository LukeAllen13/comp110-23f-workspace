{
 "cells": [
  {
<<<<<<< HEAD
   "cell_type": "markdown",
   "metadata": {},
   "source": [
    "# Linked List Demonstration"
=======
   "cell_type": "code",
   "execution_count": 15,
   "metadata": {},
   "outputs": [],
   "source": [
    "from node import Node"
   ]
  },
  {
   "cell_type": "markdown",
   "metadata": {},
   "source": [
    "# Instantiate our Nodes to Make a linked list!"
>>>>>>> 8b40a10 (Updated linked list title for cq)
   ]
  },
  {
   "cell_type": "code",
<<<<<<< HEAD
<<<<<<< HEAD
<<<<<<< HEAD
   "execution_count": null,
   "metadata": {},
   "outputs": [],
   "source": [
    "from node import Node\n",
    "\n",
    "node_e: Node = Node(4, None)\n",
    "node_d: Node = Node(3, node_e)\n",
    "node_c: Node = Node(2, node_d)\n",
    "node_b: Node = Node(1, node_c)\n",
    "node_a: Node = Node(0, node_b)\n"
=======
   "execution_count": 3,
=======
   "execution_count": 2,
>>>>>>> 73409de (Updated linked list documentation)
=======
   "execution_count": 16,
>>>>>>> ae46371 (Updated linked list documentation)
   "metadata": {},
   "outputs": [],
   "source": [
    "node_c: Node = Node(2, None)\n",
    "node_b: Node = Node(1, node_c)\n",
    "node_a: Node = Node(0, node_b) #head of list"
   ]
  },
  {
   "cell_type": "markdown",
   "metadata": {},
   "source": [
    "# Testing out accessing attributes\n"
   ]
  },
  {
   "cell_type": "code",
   "execution_count": 17,
   "metadata": {},
   "outputs": [
    {
     "name": "stdout",
     "output_type": "stream",
     "text": [
      "2\n",
      "None\n"
     ]
    }
   ],
   "source": [
    "print(node_a.next.next.data)\n",
    "print(node_a.next.next.next)"
   ]
  },
  {
   "cell_type": "markdown",
   "metadata": {},
   "source": [
    "## Testing Out `__str__` method"
   ]
  },
  {
   "cell_type": "code",
   "execution_count": 18,
   "metadata": {},
   "outputs": [
    {
     "name": "stdout",
     "output_type": "stream",
     "text": [
      "0 -> 1 -> 2 -> None\n"
     ]
    }
   ],
   "source": [
    "print(node_a)"
   ]
  },
  {
   "cell_type": "markdown",
   "metadata": {},
   "source": [
    "# `head()` method\n",
    "\n",
    "## Part 0. \n",
    "\n",
    "You are going to create a method called `head()` with the following properties:\n",
    "\n",
    "* It takes no arguments (other than `self`)\n",
    "* It returns an `int`\n",
    "* Behavior: It should return the `data` attribute for the first element in the linked list\n"
   ]
  },
  {
   "cell_type": "code",
   "execution_count": 19,
   "metadata": {},
   "outputs": [
    {
     "name": "stdout",
     "output_type": "stream",
     "text": [
      "Actual:  None  - Expected: 0\n"
     ]
    }
   ],
   "source": [
    "print(\"Actual: \", node_a.head(), \" - Expected: 0\")"
>>>>>>> 8b40a10 (Updated linked list title for cq)
   ]
  },
  {
   "cell_type": "markdown",
   "metadata": {},
   "source": [
<<<<<<< HEAD
    "## Access some data in my linked list!"
=======
    "# `tail()` method\n",
    "\n",
    "## Part 1. \n",
    "\n",
    "You are going to create a method called `tail()` with the following properties:\n",
    "\n",
    "* It takes no arguments (other than `self`)\n",
    "* It returns an `Node` object (or `None` if linked list is of length 1)\n",
    "* Behavior: It should return a linked list of every element minus the head."
>>>>>>> 8b40a10 (Updated linked list title for cq)
   ]
  },
  {
   "cell_type": "code",
<<<<<<< HEAD
<<<<<<< HEAD
<<<<<<< HEAD
   "execution_count": null,
   "metadata": {},
   "outputs": [],
   "source": [
    "print(node_b.data)\n",
    "print(node_a.next.data)"
=======
   "execution_count": 7,
=======
   "execution_count": 6,
>>>>>>> 73409de (Updated linked list documentation)
=======
   "execution_count": 20,
>>>>>>> ae46371 (Updated linked list documentation)
   "metadata": {},
   "outputs": [
    {
     "name": "stdout",
     "output_type": "stream",
     "text": [
      "Actual:  None  - Expected: 1 -> 2 -> None\n",
      "Actual:  None  - Expected: None\n"
     ]
    }
   ],
   "source": [
    "print(\"Actual: \", node_a.tail(), \" - Expected: 1 -> 2 -> None\")\n",
    "print(\"Actual: \", node_c.tail(), \" - Expected: None\")"
   ]
  },
  {
   "cell_type": "markdown",
   "metadata": {},
   "source": [
    "# `list()` method\n",
    "\n",
    "## Part 2. \n",
    "\n",
    "You are going to create a method called `last()` with the following properties:\n",
    "\n",
    "* It takes no arguments (other than `self`)\n",
    "* It returns an `int` object\n",
    "* Behavior: It should return the `data` of the *last* element in the linked list. (Hint: Look at `__str__`!)"
>>>>>>> 8b40a10 (Updated linked list title for cq)
   ]
  },
  {
   "cell_type": "code",
<<<<<<< HEAD
<<<<<<< HEAD
<<<<<<< HEAD
   "execution_count": null,
   "metadata": {},
   "outputs": [],
   "source": [
    "#0 -> 1 -> 2\n",
    "print(str(node_a))\n"
=======
   "execution_count": 8,
=======
   "execution_count": 7,
>>>>>>> 73409de (Updated linked list documentation)
=======
   "execution_count": 21,
>>>>>>> ae46371 (Updated linked list documentation)
   "metadata": {},
   "outputs": [
    {
     "name": "stdout",
     "output_type": "stream",
     "text": [
      "Actual:  None  - Expected: 2\n"
     ]
    }
   ],
   "source": [
    "print(\"Actual: \", node_a.last(), \" - Expected: 2\")"
>>>>>>> 8b40a10 (Updated linked list title for cq)
   ]
  }
 ],
 "metadata": {
<<<<<<< HEAD
  "language_info": {
   "name": "python"
=======
  "kernelspec": {
   "display_name": "Python 3",
   "language": "python",
   "name": "python3"
  },
  "language_info": {
   "codemirror_mode": {
    "name": "ipython",
    "version": 3
   },
   "file_extension": ".py",
   "mimetype": "text/x-python",
   "name": "python",
   "nbconvert_exporter": "python",
   "pygments_lexer": "ipython3",
   "version": "3.11.5"
>>>>>>> 8b40a10 (Updated linked list title for cq)
  }
 },
 "nbformat": 4,
 "nbformat_minor": 2
}
