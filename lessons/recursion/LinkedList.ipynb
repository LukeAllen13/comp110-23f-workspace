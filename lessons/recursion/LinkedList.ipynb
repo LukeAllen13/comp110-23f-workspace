{
 "cells": [
  {
   "cell_type": "markdown",
   "metadata": {},
   "source": [
    "# Linked List Demonstration"
   ]
  },
  {
   "cell_type": "code",
   "execution_count": null,
   "metadata": {},
   "outputs": [],
   "source": [
    "from node import Node\n",
    "\n",
    "node_e: Node = Node(4, None)\n",
    "node_d: Node = Node(3, node_e)\n",
    "node_c: Node = Node(2, node_d)\n",
    "node_b: Node = Node(1, node_c)\n",
    "node_a: Node = Node(0, node_b)\n"
   ]
  },
  {
   "cell_type": "markdown",
   "metadata": {},
   "source": [
    "## Access some data in my linked list!"
   ]
  },
  {
   "cell_type": "code",
   "execution_count": null,
   "metadata": {},
   "outputs": [],
   "source": [
    "print(node_b.data)\n",
    "print(node_a.next.data)"
   ]
  },
  {
   "cell_type": "code",
   "execution_count": null,
   "metadata": {},
   "outputs": [],
   "source": [
    "#0 -> 1 -> 2\n",
    "print(str(node_a))\n"
   ]
  }
 ],
 "metadata": {
  "language_info": {
   "name": "python"
  }
 },
 "nbformat": 4,
 "nbformat_minor": 2
}
